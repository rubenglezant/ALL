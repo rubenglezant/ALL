{
 "cells": [
  {
   "cell_type": "code",
   "execution_count": 4,
   "metadata": {
    "collapsed": false
   },
   "outputs": [
    {
     "name": "stdout",
     "output_type": "stream",
     "text": [
      "11/02/2015 22:10:55\n",
      "\n",
      "CPython 2.7.10\n",
      "IPython 4.0.0\n",
      "\n",
      "compiler   : GCC 4.4.7 20120313 (Red Hat 4.4.7-1)\n",
      "system     : Linux\n",
      "release    : 3.13.0-66-generic\n",
      "machine    : x86_64\n",
      "processor  : x86_64\n",
      "CPU cores  : 8\n",
      "interpreter: 64bit\n"
     ]
    }
   ],
   "source": [
    "%load_ext watermark\n",
    "%watermark"
   ]
  },
  {
   "cell_type": "markdown",
   "metadata": {},
   "source": [
    "**TWEETS HEATMAP OF MURCIA**"
   ]
  },
  {
   "cell_type": "markdown",
   "metadata": {},
   "source": [
    "**1. Getting the tweets**"
   ]
  },
  {
   "cell_type": "markdown",
   "metadata": {},
   "source": [
    "*In order to get the tweets, we need to use Twitter Streaming api. I found that [Tweepy](http://tweepy.readthedocs.org/en/latest/getting_started.html), one (of many) Twitter API Python wrappers does an outstanding job in capturing tweets via Twitter Streaming API*\n",
    "\n",
    "Here is the code I used. I filtered the tweets by location. Twitter allows for filtering using a bounding box set of coordinates using the following structure:\n",
    "\n",
    "**location=[sw_longitude, sw_latitude, ne_longitude, ne_latitude]**\n",
    "\n",
    "*(interesting how some apis follow (lat, lon) and others (lon, lat). We need a standard)*"
   ]
  },
  {
   "cell_type": "code",
   "execution_count": null,
   "metadata": {
    "collapsed": false
   },
   "outputs": [],
   "source": [
    "import json\n",
    "from tweepy import Stream\n",
    "from tweepy import OAuthHandler\n",
    "from tweepy.streaming import StreamListener\n",
    "\n",
    "\n",
    "ckey = YOUR_CONSUMER_KEY_HERE\n",
    "csecret = YOUR_CONSUMER_SECRET_HERE\n",
    "atoken = YOUR_TWITTER_APP_TOKEN_HERE\n",
    "asecret = YOUR_TWITTER_APP_SECRET_HERE\n",
    "\n",
    "murcia = [-1.157420, 37.951741, -1.081202, 38.029126] #Check it out, is a very nice city!\n",
    "\n",
    "file =  open('tweets.txt', 'a')\n",
    "\n",
    "class listener(StreamListener):\n",
    "\n",
    "    def on_data(self, data):\n",
    "        # Twitter returns data in JSON format - we need to decode it first\n",
    "        try:\n",
    "            decoded = json.loads(data)\n",
    "        except Exception as e:\n",
    "            print e #we don't want the listener to stop\n",
    "            return True\n",
    "   \n",
    "        if decoded.get('geo') is not None:\n",
    "            location = decoded.get('geo').get('coordinates')\n",
    "        else:\n",
    "            location = '[,]'\n",
    "        text = decoded['text'].replace('\\n',' ')\n",
    "        user = '@' + decoded.get('user').get('screen_name')\n",
    "        created = decoded.get('created_at')\n",
    "        tweet = '%s|%s|%s|s\\n' % (user,location,created,text)\n",
    "        \n",
    "        file.write(tweet)\n",
    "        print tweet\n",
    "        return True\n",
    "\n",
    "    def on_error(self, status):\n",
    "        print status\n",
    "\n",
    "if __name__ == '__main__':\n",
    "    print 'Starting'\n",
    "    \n",
    "    auth = OAuthHandler(ckey, csecret)\n",
    "    auth.set_access_token(atoken, asecret)\n",
    "    twitterStream = Stream(auth, listener())\n",
    "    twitterStream.filter(locations=murcia)"
   ]
  },
  {
   "cell_type": "markdown",
   "metadata": {},
   "source": [
    "**Run it...and wait.**\n",
    "\n",
    "The script will capture all the tweets that fit within that bounding box we setup. \n",
    "\n",
    "One important thing to notice is that the api is not 100% accurate on the data it returns. I found several geocoded tweets that didn't belong to the specified box. \n",
    "\n",
    "Since the script has to be running in order to capture all the tweets, you can run this on a spare computer if you have one, or alternatively you can consider online services such as [RedHat](http://www.redhat.com/) or [PythonAnywhere](https://www.pythonanywhere.com/), or rent your ownn tiny machine on the cloud with services like [Digital Ocean](digitalocean.com) or [Amazon Web Services](aws.amazon.com)"
   ]
  },
  {
   "cell_type": "markdown",
   "metadata": {},
   "source": [
    "<hr>"
   ]
  }
 ],
 "metadata": {
  "kernelspec": {
   "display_name": "Python 2",
   "language": "python",
   "name": "python2"
  },
  "language_info": {
   "codemirror_mode": {
    "name": "ipython",
    "version": 2
   },
   "file_extension": ".py",
   "mimetype": "text/x-python",
   "name": "python",
   "nbconvert_exporter": "python",
   "pygments_lexer": "ipython2",
   "version": "2.7.10"
  }
 },
 "nbformat": 4,
 "nbformat_minor": 0
}
